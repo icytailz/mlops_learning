{
 "cells": [
  {
   "cell_type": "markdown",
   "metadata": {},
   "source": [
    "# Data Processing and Versioning"
   ]
  },
  {
   "cell_type": "code",
   "execution_count": 456,
   "metadata": {},
   "outputs": [],
   "source": [
    "%matplotlib inline\n",
    "import pandas as pd\n",
    "import numpy as np\n",
    "from matplotlib import pyplot as plt\n",
    "from matplotlib.pyplot import figure\n",
    "import seaborn as sn\n",
    "from pathlib import Path\n",
    "from google.cloud import aiplatform, storage"
   ]
  },
  {
   "cell_type": "code",
   "execution_count": 457,
   "metadata": {},
   "outputs": [],
   "source": [
    "# import dataset\n",
    "\n",
    "df = pd.read_csv('Dataset/weather_dataset_raw.csv')"
   ]
  },
  {
   "cell_type": "markdown",
   "metadata": {},
   "source": [
    "# 1. Data quality assessment "
   ]
  },
  {
   "cell_type": "code",
   "execution_count": 458,
   "metadata": {},
   "outputs": [
    {
     "data": {
      "text/html": [
       "<div>\n",
       "<style scoped>\n",
       "    .dataframe tbody tr th:only-of-type {\n",
       "        vertical-align: middle;\n",
       "    }\n",
       "\n",
       "    .dataframe tbody tr th {\n",
       "        vertical-align: top;\n",
       "    }\n",
       "\n",
       "    .dataframe thead th {\n",
       "        text-align: right;\n",
       "    }\n",
       "</style>\n",
       "<table border=\"1\" class=\"dataframe\">\n",
       "  <thead>\n",
       "    <tr style=\"text-align: right;\">\n",
       "      <th></th>\n",
       "      <th>S_No</th>\n",
       "      <th>Timestamp</th>\n",
       "      <th>Location</th>\n",
       "      <th>Temperature_C</th>\n",
       "      <th>Apparent_Temperature_C</th>\n",
       "      <th>Humidity</th>\n",
       "      <th>Wind_speed_kmph</th>\n",
       "      <th>Wind_bearing_degrees</th>\n",
       "      <th>Visibility_km</th>\n",
       "      <th>Pressure_millibars</th>\n",
       "      <th>Weather_conditions</th>\n",
       "    </tr>\n",
       "  </thead>\n",
       "  <tbody>\n",
       "    <tr>\n",
       "      <th>0</th>\n",
       "      <td>0</td>\n",
       "      <td>2006-04-01 00:00:00+02:00</td>\n",
       "      <td>Port of Turku, Finland</td>\n",
       "      <td>9.472222</td>\n",
       "      <td>7.388889</td>\n",
       "      <td>0.89</td>\n",
       "      <td>14.1197</td>\n",
       "      <td>251</td>\n",
       "      <td>15.8263</td>\n",
       "      <td>1015.13</td>\n",
       "      <td>rain</td>\n",
       "    </tr>\n",
       "    <tr>\n",
       "      <th>1</th>\n",
       "      <td>1</td>\n",
       "      <td>2006-04-01 01:00:00+02:00</td>\n",
       "      <td>Port of Turku, Finland</td>\n",
       "      <td>9.355556</td>\n",
       "      <td>7.227778</td>\n",
       "      <td>0.86</td>\n",
       "      <td>14.2646</td>\n",
       "      <td>259</td>\n",
       "      <td>15.8263</td>\n",
       "      <td>1015.63</td>\n",
       "      <td>rain</td>\n",
       "    </tr>\n",
       "    <tr>\n",
       "      <th>2</th>\n",
       "      <td>2</td>\n",
       "      <td>2006-04-01 02:00:00+02:00</td>\n",
       "      <td>Port of Turku, Finland</td>\n",
       "      <td>9.377778</td>\n",
       "      <td>9.377778</td>\n",
       "      <td>0.89</td>\n",
       "      <td>3.9284</td>\n",
       "      <td>204</td>\n",
       "      <td>14.9569</td>\n",
       "      <td>1015.94</td>\n",
       "      <td>rain</td>\n",
       "    </tr>\n",
       "    <tr>\n",
       "      <th>3</th>\n",
       "      <td>3</td>\n",
       "      <td>2006-04-01 03:00:00+02:00</td>\n",
       "      <td>Port of Turku, Finland</td>\n",
       "      <td>8.288889</td>\n",
       "      <td>5.944444</td>\n",
       "      <td>0.83</td>\n",
       "      <td>14.1036</td>\n",
       "      <td>269</td>\n",
       "      <td>15.8263</td>\n",
       "      <td>1016.41</td>\n",
       "      <td>NaN</td>\n",
       "    </tr>\n",
       "    <tr>\n",
       "      <th>4</th>\n",
       "      <td>4</td>\n",
       "      <td>2006-04-01 04:00:00+02:00</td>\n",
       "      <td>Port of Turku, Finland</td>\n",
       "      <td>8.755556</td>\n",
       "      <td>6.977778</td>\n",
       "      <td>0.83</td>\n",
       "      <td>11.0446</td>\n",
       "      <td>259</td>\n",
       "      <td>15.8263</td>\n",
       "      <td>1016.51</td>\n",
       "      <td>rain</td>\n",
       "    </tr>\n",
       "  </tbody>\n",
       "</table>\n",
       "</div>"
      ],
      "text/plain": [
       "   S_No                  Timestamp                Location  Temperature_C  \\\n",
       "0     0  2006-04-01 00:00:00+02:00  Port of Turku, Finland       9.472222   \n",
       "1     1  2006-04-01 01:00:00+02:00  Port of Turku, Finland       9.355556   \n",
       "2     2  2006-04-01 02:00:00+02:00  Port of Turku, Finland       9.377778   \n",
       "3     3  2006-04-01 03:00:00+02:00  Port of Turku, Finland       8.288889   \n",
       "4     4  2006-04-01 04:00:00+02:00  Port of Turku, Finland       8.755556   \n",
       "\n",
       "   Apparent_Temperature_C  Humidity  Wind_speed_kmph  Wind_bearing_degrees  \\\n",
       "0                7.388889      0.89          14.1197                   251   \n",
       "1                7.227778      0.86          14.2646                   259   \n",
       "2                9.377778      0.89           3.9284                   204   \n",
       "3                5.944444      0.83          14.1036                   269   \n",
       "4                6.977778      0.83          11.0446                   259   \n",
       "\n",
       "   Visibility_km  Pressure_millibars Weather_conditions  \n",
       "0        15.8263             1015.13               rain  \n",
       "1        15.8263             1015.63               rain  \n",
       "2        14.9569             1015.94               rain  \n",
       "3        15.8263             1016.41                NaN  \n",
       "4        15.8263             1016.51               rain  "
      ]
     },
     "execution_count": 458,
     "metadata": {},
     "output_type": "execute_result"
    }
   ],
   "source": [
    "df.head()"
   ]
  },
  {
   "cell_type": "code",
   "execution_count": 459,
   "metadata": {},
   "outputs": [
    {
     "data": {
      "text/html": [
       "<div>\n",
       "<style scoped>\n",
       "    .dataframe tbody tr th:only-of-type {\n",
       "        vertical-align: middle;\n",
       "    }\n",
       "\n",
       "    .dataframe tbody tr th {\n",
       "        vertical-align: top;\n",
       "    }\n",
       "\n",
       "    .dataframe thead th {\n",
       "        text-align: right;\n",
       "    }\n",
       "</style>\n",
       "<table border=\"1\" class=\"dataframe\">\n",
       "  <thead>\n",
       "    <tr style=\"text-align: right;\">\n",
       "      <th></th>\n",
       "      <th>S_No</th>\n",
       "      <th>Temperature_C</th>\n",
       "      <th>Apparent_Temperature_C</th>\n",
       "      <th>Humidity</th>\n",
       "      <th>Wind_speed_kmph</th>\n",
       "      <th>Wind_bearing_degrees</th>\n",
       "      <th>Visibility_km</th>\n",
       "      <th>Pressure_millibars</th>\n",
       "    </tr>\n",
       "  </thead>\n",
       "  <tbody>\n",
       "    <tr>\n",
       "      <th>count</th>\n",
       "      <td>96453.000000</td>\n",
       "      <td>96453.000000</td>\n",
       "      <td>96453.000000</td>\n",
       "      <td>96453.000000</td>\n",
       "      <td>96453.000000</td>\n",
       "      <td>96453.000000</td>\n",
       "      <td>96453.000000</td>\n",
       "      <td>96453.000000</td>\n",
       "    </tr>\n",
       "    <tr>\n",
       "      <th>mean</th>\n",
       "      <td>48226.000000</td>\n",
       "      <td>11.932678</td>\n",
       "      <td>10.855029</td>\n",
       "      <td>0.734899</td>\n",
       "      <td>10.810640</td>\n",
       "      <td>187.509232</td>\n",
       "      <td>10.347325</td>\n",
       "      <td>1003.235956</td>\n",
       "    </tr>\n",
       "    <tr>\n",
       "      <th>std</th>\n",
       "      <td>27843.727094</td>\n",
       "      <td>9.551546</td>\n",
       "      <td>10.696847</td>\n",
       "      <td>0.195473</td>\n",
       "      <td>6.913571</td>\n",
       "      <td>107.383428</td>\n",
       "      <td>4.192123</td>\n",
       "      <td>116.969906</td>\n",
       "    </tr>\n",
       "    <tr>\n",
       "      <th>min</th>\n",
       "      <td>0.000000</td>\n",
       "      <td>-21.822222</td>\n",
       "      <td>-27.716667</td>\n",
       "      <td>0.000000</td>\n",
       "      <td>0.000000</td>\n",
       "      <td>0.000000</td>\n",
       "      <td>0.000000</td>\n",
       "      <td>0.000000</td>\n",
       "    </tr>\n",
       "    <tr>\n",
       "      <th>25%</th>\n",
       "      <td>24113.000000</td>\n",
       "      <td>4.688889</td>\n",
       "      <td>2.311111</td>\n",
       "      <td>0.600000</td>\n",
       "      <td>5.828200</td>\n",
       "      <td>116.000000</td>\n",
       "      <td>8.339800</td>\n",
       "      <td>1011.900000</td>\n",
       "    </tr>\n",
       "    <tr>\n",
       "      <th>50%</th>\n",
       "      <td>48226.000000</td>\n",
       "      <td>12.000000</td>\n",
       "      <td>12.000000</td>\n",
       "      <td>0.780000</td>\n",
       "      <td>9.965900</td>\n",
       "      <td>180.000000</td>\n",
       "      <td>10.046400</td>\n",
       "      <td>1016.450000</td>\n",
       "    </tr>\n",
       "    <tr>\n",
       "      <th>75%</th>\n",
       "      <td>72339.000000</td>\n",
       "      <td>18.838889</td>\n",
       "      <td>18.838889</td>\n",
       "      <td>0.890000</td>\n",
       "      <td>14.135800</td>\n",
       "      <td>290.000000</td>\n",
       "      <td>14.812000</td>\n",
       "      <td>1021.090000</td>\n",
       "    </tr>\n",
       "    <tr>\n",
       "      <th>max</th>\n",
       "      <td>96452.000000</td>\n",
       "      <td>39.905556</td>\n",
       "      <td>39.344444</td>\n",
       "      <td>1.000000</td>\n",
       "      <td>63.852600</td>\n",
       "      <td>359.000000</td>\n",
       "      <td>16.100000</td>\n",
       "      <td>1046.380000</td>\n",
       "    </tr>\n",
       "  </tbody>\n",
       "</table>\n",
       "</div>"
      ],
      "text/plain": [
       "               S_No  Temperature_C  Apparent_Temperature_C      Humidity  \\\n",
       "count  96453.000000   96453.000000            96453.000000  96453.000000   \n",
       "mean   48226.000000      11.932678               10.855029      0.734899   \n",
       "std    27843.727094       9.551546               10.696847      0.195473   \n",
       "min        0.000000     -21.822222              -27.716667      0.000000   \n",
       "25%    24113.000000       4.688889                2.311111      0.600000   \n",
       "50%    48226.000000      12.000000               12.000000      0.780000   \n",
       "75%    72339.000000      18.838889               18.838889      0.890000   \n",
       "max    96452.000000      39.905556               39.344444      1.000000   \n",
       "\n",
       "       Wind_speed_kmph  Wind_bearing_degrees  Visibility_km  \\\n",
       "count     96453.000000          96453.000000   96453.000000   \n",
       "mean         10.810640            187.509232      10.347325   \n",
       "std           6.913571            107.383428       4.192123   \n",
       "min           0.000000              0.000000       0.000000   \n",
       "25%           5.828200            116.000000       8.339800   \n",
       "50%           9.965900            180.000000      10.046400   \n",
       "75%          14.135800            290.000000      14.812000   \n",
       "max          63.852600            359.000000      16.100000   \n",
       "\n",
       "       Pressure_millibars  \n",
       "count        96453.000000  \n",
       "mean          1003.235956  \n",
       "std            116.969906  \n",
       "min              0.000000  \n",
       "25%           1011.900000  \n",
       "50%           1016.450000  \n",
       "75%           1021.090000  \n",
       "max           1046.380000  "
      ]
     },
     "execution_count": 459,
     "metadata": {},
     "output_type": "execute_result"
    }
   ],
   "source": [
    "df.describe()"
   ]
  },
  {
   "cell_type": "code",
   "execution_count": 460,
   "metadata": {},
   "outputs": [
    {
     "data": {
      "text/plain": [
       "(96453, 11)"
      ]
     },
     "execution_count": 460,
     "metadata": {},
     "output_type": "execute_result"
    }
   ],
   "source": [
    "df.shape"
   ]
  },
  {
   "cell_type": "code",
   "execution_count": 461,
   "metadata": {},
   "outputs": [
    {
     "data": {
      "text/plain": [
       "S_No                        int64\n",
       "Timestamp                  object\n",
       "Location                   object\n",
       "Temperature_C             float64\n",
       "Apparent_Temperature_C    float64\n",
       "Humidity                  float64\n",
       "Wind_speed_kmph           float64\n",
       "Wind_bearing_degrees        int64\n",
       "Visibility_km             float64\n",
       "Pressure_millibars        float64\n",
       "Weather_conditions         object\n",
       "dtype: object"
      ]
     },
     "execution_count": 461,
     "metadata": {},
     "output_type": "execute_result"
    }
   ],
   "source": [
    "df.dtypes"
   ]
  },
  {
   "cell_type": "markdown",
   "metadata": {},
   "source": [
    "#### Check for missing data"
   ]
  },
  {
   "cell_type": "code",
   "execution_count": 462,
   "metadata": {},
   "outputs": [
    {
     "data": {
      "text/plain": [
       "np.True_"
      ]
     },
     "execution_count": 462,
     "metadata": {},
     "output_type": "execute_result"
    }
   ],
   "source": [
    "df.isnull().values.any()"
   ]
  },
  {
   "cell_type": "markdown",
   "metadata": {},
   "source": [
    "# 2. Calibrate missing data"
   ]
  },
  {
   "cell_type": "code",
   "execution_count": 463,
   "metadata": {},
   "outputs": [],
   "source": [
    "#df['Weather_conditions'].fillna(method='ffill',inplace=True,axis=0)\n",
    "df['Weather_conditions'] = df['Weather_conditions'].ffill()"
   ]
  },
  {
   "cell_type": "code",
   "execution_count": 464,
   "metadata": {},
   "outputs": [
    {
     "data": {
      "text/plain": [
       "np.False_"
      ]
     },
     "execution_count": 464,
     "metadata": {},
     "output_type": "execute_result"
    }
   ],
   "source": [
    "df.isnull().values.any()"
   ]
  },
  {
   "cell_type": "code",
   "execution_count": 465,
   "metadata": {},
   "outputs": [
    {
     "data": {
      "text/plain": [
       "Weather_conditions\n",
       "rain     82271\n",
       "snow     10712\n",
       "clear     3470\n",
       "Name: count, dtype: int64"
      ]
     },
     "execution_count": 465,
     "metadata": {},
     "output_type": "execute_result"
    }
   ],
   "source": [
    "df.Weather_conditions.value_counts()"
   ]
  },
  {
   "cell_type": "code",
   "execution_count": 466,
   "metadata": {},
   "outputs": [],
   "source": [
    "#df[\"Weather_conditions\"].replace({\"snow\": \"no_rain\", \"clear\": \"no_rain\"}, inplace=True)\n",
    "df[\"Weather_conditions\"] = df[\"Weather_conditions\"].replace({\"snow\": \"no_rain\", \"clear\": \"no_rain\"})"
   ]
  },
  {
   "cell_type": "code",
   "execution_count": 467,
   "metadata": {},
   "outputs": [
    {
     "data": {
      "text/plain": [
       "Weather_conditions\n",
       "rain       82271\n",
       "no_rain    14182\n",
       "Name: count, dtype: int64"
      ]
     },
     "execution_count": 467,
     "metadata": {},
     "output_type": "execute_result"
    }
   ],
   "source": [
    "df.Weather_conditions.value_counts()"
   ]
  },
  {
   "cell_type": "markdown",
   "metadata": {},
   "source": [
    "#### Convert Timestamp to Datetime format"
   ]
  },
  {
   "cell_type": "code",
   "execution_count": 468,
   "metadata": {},
   "outputs": [],
   "source": [
    "df['Timestamp'] = pd.to_datetime(df['Timestamp'], utc=True)"
   ]
  },
  {
   "cell_type": "markdown",
   "metadata": {},
   "source": [
    "#### Convert text data to numeric using Label Encoding"
   ]
  },
  {
   "cell_type": "code",
   "execution_count": 469,
   "metadata": {},
   "outputs": [],
   "source": [
    "y = df['Weather_conditions']"
   ]
  },
  {
   "cell_type": "code",
   "execution_count": 470,
   "metadata": {},
   "outputs": [],
   "source": [
    "from sklearn.preprocessing import LabelEncoder\n",
    "le=LabelEncoder()\n",
    "y=le.fit_transform(y)"
   ]
  },
  {
   "cell_type": "code",
   "execution_count": 471,
   "metadata": {},
   "outputs": [],
   "source": [
    "y = pd.DataFrame(data=y, columns=[\"Current_weather_condition\"])"
   ]
  },
  {
   "cell_type": "code",
   "execution_count": 472,
   "metadata": {},
   "outputs": [],
   "source": [
    "df = pd.concat([df, y], axis=1)"
   ]
  },
  {
   "cell_type": "code",
   "execution_count": 473,
   "metadata": {},
   "outputs": [
    {
     "data": {
      "text/plain": [
       "Current_weather_condition\n",
       "1    82271\n",
       "0    14182\n",
       "Name: count, dtype: int64"
      ]
     },
     "execution_count": 473,
     "metadata": {},
     "output_type": "execute_result"
    }
   ],
   "source": [
    "df.Current_weather_condition.value_counts()"
   ]
  },
  {
   "cell_type": "code",
   "execution_count": 474,
   "metadata": {},
   "outputs": [],
   "source": [
    "df.drop(['Weather_conditions'],axis=1,inplace=True)"
   ]
  },
  {
   "cell_type": "code",
   "execution_count": 475,
   "metadata": {},
   "outputs": [
    {
     "data": {
      "text/html": [
       "<div>\n",
       "<style scoped>\n",
       "    .dataframe tbody tr th:only-of-type {\n",
       "        vertical-align: middle;\n",
       "    }\n",
       "\n",
       "    .dataframe tbody tr th {\n",
       "        vertical-align: top;\n",
       "    }\n",
       "\n",
       "    .dataframe thead th {\n",
       "        text-align: right;\n",
       "    }\n",
       "</style>\n",
       "<table border=\"1\" class=\"dataframe\">\n",
       "  <thead>\n",
       "    <tr style=\"text-align: right;\">\n",
       "      <th></th>\n",
       "      <th>S_No</th>\n",
       "      <th>Timestamp</th>\n",
       "      <th>Location</th>\n",
       "      <th>Temperature_C</th>\n",
       "      <th>Apparent_Temperature_C</th>\n",
       "      <th>Humidity</th>\n",
       "      <th>Wind_speed_kmph</th>\n",
       "      <th>Wind_bearing_degrees</th>\n",
       "      <th>Visibility_km</th>\n",
       "      <th>Pressure_millibars</th>\n",
       "      <th>Current_weather_condition</th>\n",
       "    </tr>\n",
       "  </thead>\n",
       "  <tbody>\n",
       "    <tr>\n",
       "      <th>0</th>\n",
       "      <td>0</td>\n",
       "      <td>2006-03-31 22:00:00+00:00</td>\n",
       "      <td>Port of Turku, Finland</td>\n",
       "      <td>9.472222</td>\n",
       "      <td>7.388889</td>\n",
       "      <td>0.89</td>\n",
       "      <td>14.1197</td>\n",
       "      <td>251</td>\n",
       "      <td>15.8263</td>\n",
       "      <td>1015.13</td>\n",
       "      <td>1</td>\n",
       "    </tr>\n",
       "    <tr>\n",
       "      <th>1</th>\n",
       "      <td>1</td>\n",
       "      <td>2006-03-31 23:00:00+00:00</td>\n",
       "      <td>Port of Turku, Finland</td>\n",
       "      <td>9.355556</td>\n",
       "      <td>7.227778</td>\n",
       "      <td>0.86</td>\n",
       "      <td>14.2646</td>\n",
       "      <td>259</td>\n",
       "      <td>15.8263</td>\n",
       "      <td>1015.63</td>\n",
       "      <td>1</td>\n",
       "    </tr>\n",
       "    <tr>\n",
       "      <th>2</th>\n",
       "      <td>2</td>\n",
       "      <td>2006-04-01 00:00:00+00:00</td>\n",
       "      <td>Port of Turku, Finland</td>\n",
       "      <td>9.377778</td>\n",
       "      <td>9.377778</td>\n",
       "      <td>0.89</td>\n",
       "      <td>3.9284</td>\n",
       "      <td>204</td>\n",
       "      <td>14.9569</td>\n",
       "      <td>1015.94</td>\n",
       "      <td>1</td>\n",
       "    </tr>\n",
       "    <tr>\n",
       "      <th>3</th>\n",
       "      <td>3</td>\n",
       "      <td>2006-04-01 01:00:00+00:00</td>\n",
       "      <td>Port of Turku, Finland</td>\n",
       "      <td>8.288889</td>\n",
       "      <td>5.944444</td>\n",
       "      <td>0.83</td>\n",
       "      <td>14.1036</td>\n",
       "      <td>269</td>\n",
       "      <td>15.8263</td>\n",
       "      <td>1016.41</td>\n",
       "      <td>1</td>\n",
       "    </tr>\n",
       "    <tr>\n",
       "      <th>4</th>\n",
       "      <td>4</td>\n",
       "      <td>2006-04-01 02:00:00+00:00</td>\n",
       "      <td>Port of Turku, Finland</td>\n",
       "      <td>8.755556</td>\n",
       "      <td>6.977778</td>\n",
       "      <td>0.83</td>\n",
       "      <td>11.0446</td>\n",
       "      <td>259</td>\n",
       "      <td>15.8263</td>\n",
       "      <td>1016.51</td>\n",
       "      <td>1</td>\n",
       "    </tr>\n",
       "  </tbody>\n",
       "</table>\n",
       "</div>"
      ],
      "text/plain": [
       "   S_No                 Timestamp                Location  Temperature_C  \\\n",
       "0     0 2006-03-31 22:00:00+00:00  Port of Turku, Finland       9.472222   \n",
       "1     1 2006-03-31 23:00:00+00:00  Port of Turku, Finland       9.355556   \n",
       "2     2 2006-04-01 00:00:00+00:00  Port of Turku, Finland       9.377778   \n",
       "3     3 2006-04-01 01:00:00+00:00  Port of Turku, Finland       8.288889   \n",
       "4     4 2006-04-01 02:00:00+00:00  Port of Turku, Finland       8.755556   \n",
       "\n",
       "   Apparent_Temperature_C  Humidity  Wind_speed_kmph  Wind_bearing_degrees  \\\n",
       "0                7.388889      0.89          14.1197                   251   \n",
       "1                7.227778      0.86          14.2646                   259   \n",
       "2                9.377778      0.89           3.9284                   204   \n",
       "3                5.944444      0.83          14.1036                   269   \n",
       "4                6.977778      0.83          11.0446                   259   \n",
       "\n",
       "   Visibility_km  Pressure_millibars  Current_weather_condition  \n",
       "0        15.8263             1015.13                          1  \n",
       "1        15.8263             1015.63                          1  \n",
       "2        14.9569             1015.94                          1  \n",
       "3        15.8263             1016.41                          1  \n",
       "4        15.8263             1016.51                          1  "
      ]
     },
     "execution_count": 475,
     "metadata": {},
     "output_type": "execute_result"
    }
   ],
   "source": [
    "df.head()"
   ]
  },
  {
   "cell_type": "markdown",
   "metadata": {},
   "source": [
    "#### Future Weather_condition"
   ]
  },
  {
   "cell_type": "code",
   "execution_count": 476,
   "metadata": {},
   "outputs": [],
   "source": [
    "df['Future_weather_condition'] = df.Current_weather_condition.shift(4, axis = 0) "
   ]
  },
  {
   "cell_type": "code",
   "execution_count": 477,
   "metadata": {},
   "outputs": [],
   "source": [
    "df.dropna(inplace=True)"
   ]
  },
  {
   "cell_type": "code",
   "execution_count": 478,
   "metadata": {},
   "outputs": [],
   "source": [
    "df['Future_weather_condition'] = df['Future_weather_condition'].apply(np.int64)"
   ]
  },
  {
   "cell_type": "code",
   "execution_count": 479,
   "metadata": {},
   "outputs": [
    {
     "data": {
      "text/html": [
       "<div>\n",
       "<style scoped>\n",
       "    .dataframe tbody tr th:only-of-type {\n",
       "        vertical-align: middle;\n",
       "    }\n",
       "\n",
       "    .dataframe tbody tr th {\n",
       "        vertical-align: top;\n",
       "    }\n",
       "\n",
       "    .dataframe thead th {\n",
       "        text-align: right;\n",
       "    }\n",
       "</style>\n",
       "<table border=\"1\" class=\"dataframe\">\n",
       "  <thead>\n",
       "    <tr style=\"text-align: right;\">\n",
       "      <th></th>\n",
       "      <th>S_No</th>\n",
       "      <th>Timestamp</th>\n",
       "      <th>Location</th>\n",
       "      <th>Temperature_C</th>\n",
       "      <th>Apparent_Temperature_C</th>\n",
       "      <th>Humidity</th>\n",
       "      <th>Wind_speed_kmph</th>\n",
       "      <th>Wind_bearing_degrees</th>\n",
       "      <th>Visibility_km</th>\n",
       "      <th>Pressure_millibars</th>\n",
       "      <th>Current_weather_condition</th>\n",
       "      <th>Future_weather_condition</th>\n",
       "    </tr>\n",
       "  </thead>\n",
       "  <tbody>\n",
       "    <tr>\n",
       "      <th>4</th>\n",
       "      <td>4</td>\n",
       "      <td>2006-04-01 02:00:00+00:00</td>\n",
       "      <td>Port of Turku, Finland</td>\n",
       "      <td>8.755556</td>\n",
       "      <td>6.977778</td>\n",
       "      <td>0.83</td>\n",
       "      <td>11.0446</td>\n",
       "      <td>259</td>\n",
       "      <td>15.8263</td>\n",
       "      <td>1016.51</td>\n",
       "      <td>1</td>\n",
       "      <td>1</td>\n",
       "    </tr>\n",
       "    <tr>\n",
       "      <th>5</th>\n",
       "      <td>5</td>\n",
       "      <td>2006-04-01 03:00:00+00:00</td>\n",
       "      <td>Port of Turku, Finland</td>\n",
       "      <td>9.222222</td>\n",
       "      <td>7.111111</td>\n",
       "      <td>0.85</td>\n",
       "      <td>13.9587</td>\n",
       "      <td>258</td>\n",
       "      <td>14.9569</td>\n",
       "      <td>1016.66</td>\n",
       "      <td>1</td>\n",
       "      <td>1</td>\n",
       "    </tr>\n",
       "    <tr>\n",
       "      <th>6</th>\n",
       "      <td>6</td>\n",
       "      <td>2006-04-01 04:00:00+00:00</td>\n",
       "      <td>Port of Turku, Finland</td>\n",
       "      <td>7.733333</td>\n",
       "      <td>5.522222</td>\n",
       "      <td>0.95</td>\n",
       "      <td>12.3648</td>\n",
       "      <td>259</td>\n",
       "      <td>9.9820</td>\n",
       "      <td>1016.72</td>\n",
       "      <td>1</td>\n",
       "      <td>1</td>\n",
       "    </tr>\n",
       "    <tr>\n",
       "      <th>7</th>\n",
       "      <td>7</td>\n",
       "      <td>2006-04-01 05:00:00+00:00</td>\n",
       "      <td>Port of Turku, Finland</td>\n",
       "      <td>8.772222</td>\n",
       "      <td>6.527778</td>\n",
       "      <td>0.89</td>\n",
       "      <td>14.1519</td>\n",
       "      <td>260</td>\n",
       "      <td>9.9820</td>\n",
       "      <td>1016.84</td>\n",
       "      <td>1</td>\n",
       "      <td>1</td>\n",
       "    </tr>\n",
       "    <tr>\n",
       "      <th>8</th>\n",
       "      <td>8</td>\n",
       "      <td>2006-04-01 06:00:00+00:00</td>\n",
       "      <td>Port of Turku, Finland</td>\n",
       "      <td>10.822222</td>\n",
       "      <td>10.822222</td>\n",
       "      <td>0.82</td>\n",
       "      <td>11.3183</td>\n",
       "      <td>259</td>\n",
       "      <td>9.9820</td>\n",
       "      <td>1017.37</td>\n",
       "      <td>1</td>\n",
       "      <td>1</td>\n",
       "    </tr>\n",
       "  </tbody>\n",
       "</table>\n",
       "</div>"
      ],
      "text/plain": [
       "   S_No                 Timestamp                Location  Temperature_C  \\\n",
       "4     4 2006-04-01 02:00:00+00:00  Port of Turku, Finland       8.755556   \n",
       "5     5 2006-04-01 03:00:00+00:00  Port of Turku, Finland       9.222222   \n",
       "6     6 2006-04-01 04:00:00+00:00  Port of Turku, Finland       7.733333   \n",
       "7     7 2006-04-01 05:00:00+00:00  Port of Turku, Finland       8.772222   \n",
       "8     8 2006-04-01 06:00:00+00:00  Port of Turku, Finland      10.822222   \n",
       "\n",
       "   Apparent_Temperature_C  Humidity  Wind_speed_kmph  Wind_bearing_degrees  \\\n",
       "4                6.977778      0.83          11.0446                   259   \n",
       "5                7.111111      0.85          13.9587                   258   \n",
       "6                5.522222      0.95          12.3648                   259   \n",
       "7                6.527778      0.89          14.1519                   260   \n",
       "8               10.822222      0.82          11.3183                   259   \n",
       "\n",
       "   Visibility_km  Pressure_millibars  Current_weather_condition  \\\n",
       "4        15.8263             1016.51                          1   \n",
       "5        14.9569             1016.66                          1   \n",
       "6         9.9820             1016.72                          1   \n",
       "7         9.9820             1016.84                          1   \n",
       "8         9.9820             1017.37                          1   \n",
       "\n",
       "   Future_weather_condition  \n",
       "4                         1  \n",
       "5                         1  \n",
       "6                         1  \n",
       "7                         1  \n",
       "8                         1  "
      ]
     },
     "execution_count": 479,
     "metadata": {},
     "output_type": "execute_result"
    }
   ],
   "source": [
    "# Result - rain is 0 and no_rain is 1\n",
    "df.head()"
   ]
  },
  {
   "cell_type": "markdown",
   "metadata": {},
   "source": [
    "## b) Understanding Correlations between data (columns)"
   ]
  },
  {
   "cell_type": "code",
   "execution_count": 480,
   "metadata": {},
   "outputs": [
    {
     "data": {
      "text/html": [
       "<div>\n",
       "<style scoped>\n",
       "    .dataframe tbody tr th:only-of-type {\n",
       "        vertical-align: middle;\n",
       "    }\n",
       "\n",
       "    .dataframe tbody tr th {\n",
       "        vertical-align: top;\n",
       "    }\n",
       "\n",
       "    .dataframe thead th {\n",
       "        text-align: right;\n",
       "    }\n",
       "</style>\n",
       "<table border=\"1\" class=\"dataframe\">\n",
       "  <thead>\n",
       "    <tr style=\"text-align: right;\">\n",
       "      <th></th>\n",
       "      <th>S_No</th>\n",
       "      <th>Timestamp</th>\n",
       "      <th>Temperature_C</th>\n",
       "      <th>Apparent_Temperature_C</th>\n",
       "      <th>Humidity</th>\n",
       "      <th>Wind_speed_kmph</th>\n",
       "      <th>Wind_bearing_degrees</th>\n",
       "      <th>Visibility_km</th>\n",
       "      <th>Pressure_millibars</th>\n",
       "      <th>Current_weather_condition</th>\n",
       "      <th>Future_weather_condition</th>\n",
       "    </tr>\n",
       "  </thead>\n",
       "  <tbody>\n",
       "    <tr>\n",
       "      <th>S_No</th>\n",
       "      <td>1.000000</td>\n",
       "      <td>0.993978</td>\n",
       "      <td>0.025460</td>\n",
       "      <td>0.026591</td>\n",
       "      <td>0.041773</td>\n",
       "      <td>-0.006393</td>\n",
       "      <td>-0.027760</td>\n",
       "      <td>0.109075</td>\n",
       "      <td>0.016650</td>\n",
       "      <td>0.083009</td>\n",
       "      <td>0.082774</td>\n",
       "    </tr>\n",
       "    <tr>\n",
       "      <th>Timestamp</th>\n",
       "      <td>0.993978</td>\n",
       "      <td>1.000000</td>\n",
       "      <td>0.030604</td>\n",
       "      <td>0.031177</td>\n",
       "      <td>0.044408</td>\n",
       "      <td>-0.013212</td>\n",
       "      <td>-0.027330</td>\n",
       "      <td>0.100123</td>\n",
       "      <td>0.014198</td>\n",
       "      <td>0.076071</td>\n",
       "      <td>0.075879</td>\n",
       "    </tr>\n",
       "    <tr>\n",
       "      <th>Temperature_C</th>\n",
       "      <td>0.025460</td>\n",
       "      <td>0.030604</td>\n",
       "      <td>1.000000</td>\n",
       "      <td>0.992629</td>\n",
       "      <td>-0.632254</td>\n",
       "      <td>0.008959</td>\n",
       "      <td>0.029995</td>\n",
       "      <td>0.392876</td>\n",
       "      <td>-0.005446</td>\n",
       "      <td>0.378350</td>\n",
       "      <td>0.348167</td>\n",
       "    </tr>\n",
       "    <tr>\n",
       "      <th>Apparent_Temperature_C</th>\n",
       "      <td>0.026591</td>\n",
       "      <td>0.031177</td>\n",
       "      <td>0.992629</td>\n",
       "      <td>1.000000</td>\n",
       "      <td>-0.602570</td>\n",
       "      <td>-0.056646</td>\n",
       "      <td>0.029039</td>\n",
       "      <td>0.381749</td>\n",
       "      <td>-0.000218</td>\n",
       "      <td>0.383877</td>\n",
       "      <td>0.357662</td>\n",
       "    </tr>\n",
       "    <tr>\n",
       "      <th>Humidity</th>\n",
       "      <td>0.041773</td>\n",
       "      <td>0.044408</td>\n",
       "      <td>-0.632254</td>\n",
       "      <td>-0.602570</td>\n",
       "      <td>1.000000</td>\n",
       "      <td>-0.224957</td>\n",
       "      <td>0.000720</td>\n",
       "      <td>-0.369223</td>\n",
       "      <td>0.005451</td>\n",
       "      <td>-0.130966</td>\n",
       "      <td>-0.096626</td>\n",
       "    </tr>\n",
       "    <tr>\n",
       "      <th>Wind_speed_kmph</th>\n",
       "      <td>-0.006393</td>\n",
       "      <td>-0.013212</td>\n",
       "      <td>0.008959</td>\n",
       "      <td>-0.056646</td>\n",
       "      <td>-0.224957</td>\n",
       "      <td>1.000000</td>\n",
       "      <td>0.103815</td>\n",
       "      <td>0.100745</td>\n",
       "      <td>-0.049264</td>\n",
       "      <td>0.094135</td>\n",
       "      <td>0.066179</td>\n",
       "    </tr>\n",
       "    <tr>\n",
       "      <th>Wind_bearing_degrees</th>\n",
       "      <td>-0.027760</td>\n",
       "      <td>-0.027330</td>\n",
       "      <td>0.029995</td>\n",
       "      <td>0.029039</td>\n",
       "      <td>0.000720</td>\n",
       "      <td>0.103815</td>\n",
       "      <td>1.000000</td>\n",
       "      <td>0.047567</td>\n",
       "      <td>-0.011653</td>\n",
       "      <td>0.059540</td>\n",
       "      <td>0.061013</td>\n",
       "    </tr>\n",
       "    <tr>\n",
       "      <th>Visibility_km</th>\n",
       "      <td>0.109075</td>\n",
       "      <td>0.100123</td>\n",
       "      <td>0.392876</td>\n",
       "      <td>0.381749</td>\n",
       "      <td>-0.369223</td>\n",
       "      <td>0.100745</td>\n",
       "      <td>0.047567</td>\n",
       "      <td>1.000000</td>\n",
       "      <td>0.059815</td>\n",
       "      <td>0.233356</td>\n",
       "      <td>0.227457</td>\n",
       "    </tr>\n",
       "    <tr>\n",
       "      <th>Pressure_millibars</th>\n",
       "      <td>0.016650</td>\n",
       "      <td>0.014198</td>\n",
       "      <td>-0.005446</td>\n",
       "      <td>-0.000218</td>\n",
       "      <td>0.005451</td>\n",
       "      <td>-0.049264</td>\n",
       "      <td>-0.011653</td>\n",
       "      <td>0.059815</td>\n",
       "      <td>1.000000</td>\n",
       "      <td>0.040329</td>\n",
       "      <td>0.038392</td>\n",
       "    </tr>\n",
       "    <tr>\n",
       "      <th>Current_weather_condition</th>\n",
       "      <td>0.083009</td>\n",
       "      <td>0.076071</td>\n",
       "      <td>0.378350</td>\n",
       "      <td>0.383877</td>\n",
       "      <td>-0.130966</td>\n",
       "      <td>0.094135</td>\n",
       "      <td>0.059540</td>\n",
       "      <td>0.233356</td>\n",
       "      <td>0.040329</td>\n",
       "      <td>1.000000</td>\n",
       "      <td>0.808768</td>\n",
       "    </tr>\n",
       "    <tr>\n",
       "      <th>Future_weather_condition</th>\n",
       "      <td>0.082774</td>\n",
       "      <td>0.075879</td>\n",
       "      <td>0.348167</td>\n",
       "      <td>0.357662</td>\n",
       "      <td>-0.096626</td>\n",
       "      <td>0.066179</td>\n",
       "      <td>0.061013</td>\n",
       "      <td>0.227457</td>\n",
       "      <td>0.038392</td>\n",
       "      <td>0.808768</td>\n",
       "      <td>1.000000</td>\n",
       "    </tr>\n",
       "  </tbody>\n",
       "</table>\n",
       "</div>"
      ],
      "text/plain": [
       "                               S_No  Timestamp  Temperature_C  \\\n",
       "S_No                       1.000000   0.993978       0.025460   \n",
       "Timestamp                  0.993978   1.000000       0.030604   \n",
       "Temperature_C              0.025460   0.030604       1.000000   \n",
       "Apparent_Temperature_C     0.026591   0.031177       0.992629   \n",
       "Humidity                   0.041773   0.044408      -0.632254   \n",
       "Wind_speed_kmph           -0.006393  -0.013212       0.008959   \n",
       "Wind_bearing_degrees      -0.027760  -0.027330       0.029995   \n",
       "Visibility_km              0.109075   0.100123       0.392876   \n",
       "Pressure_millibars         0.016650   0.014198      -0.005446   \n",
       "Current_weather_condition  0.083009   0.076071       0.378350   \n",
       "Future_weather_condition   0.082774   0.075879       0.348167   \n",
       "\n",
       "                           Apparent_Temperature_C  Humidity  Wind_speed_kmph  \\\n",
       "S_No                                     0.026591  0.041773        -0.006393   \n",
       "Timestamp                                0.031177  0.044408        -0.013212   \n",
       "Temperature_C                            0.992629 -0.632254         0.008959   \n",
       "Apparent_Temperature_C                   1.000000 -0.602570        -0.056646   \n",
       "Humidity                                -0.602570  1.000000        -0.224957   \n",
       "Wind_speed_kmph                         -0.056646 -0.224957         1.000000   \n",
       "Wind_bearing_degrees                     0.029039  0.000720         0.103815   \n",
       "Visibility_km                            0.381749 -0.369223         0.100745   \n",
       "Pressure_millibars                      -0.000218  0.005451        -0.049264   \n",
       "Current_weather_condition                0.383877 -0.130966         0.094135   \n",
       "Future_weather_condition                 0.357662 -0.096626         0.066179   \n",
       "\n",
       "                           Wind_bearing_degrees  Visibility_km  \\\n",
       "S_No                                  -0.027760       0.109075   \n",
       "Timestamp                             -0.027330       0.100123   \n",
       "Temperature_C                          0.029995       0.392876   \n",
       "Apparent_Temperature_C                 0.029039       0.381749   \n",
       "Humidity                               0.000720      -0.369223   \n",
       "Wind_speed_kmph                        0.103815       0.100745   \n",
       "Wind_bearing_degrees                   1.000000       0.047567   \n",
       "Visibility_km                          0.047567       1.000000   \n",
       "Pressure_millibars                    -0.011653       0.059815   \n",
       "Current_weather_condition              0.059540       0.233356   \n",
       "Future_weather_condition               0.061013       0.227457   \n",
       "\n",
       "                           Pressure_millibars  Current_weather_condition  \\\n",
       "S_No                                 0.016650                   0.083009   \n",
       "Timestamp                            0.014198                   0.076071   \n",
       "Temperature_C                       -0.005446                   0.378350   \n",
       "Apparent_Temperature_C              -0.000218                   0.383877   \n",
       "Humidity                             0.005451                  -0.130966   \n",
       "Wind_speed_kmph                     -0.049264                   0.094135   \n",
       "Wind_bearing_degrees                -0.011653                   0.059540   \n",
       "Visibility_km                        0.059815                   0.233356   \n",
       "Pressure_millibars                   1.000000                   0.040329   \n",
       "Current_weather_condition            0.040329                   1.000000   \n",
       "Future_weather_condition             0.038392                   0.808768   \n",
       "\n",
       "                           Future_weather_condition  \n",
       "S_No                                       0.082774  \n",
       "Timestamp                                  0.075879  \n",
       "Temperature_C                              0.348167  \n",
       "Apparent_Temperature_C                     0.357662  \n",
       "Humidity                                  -0.096626  \n",
       "Wind_speed_kmph                            0.066179  \n",
       "Wind_bearing_degrees                       0.061013  \n",
       "Visibility_km                              0.227457  \n",
       "Pressure_millibars                         0.038392  \n",
       "Current_weather_condition                  0.808768  \n",
       "Future_weather_condition                   1.000000  "
      ]
     },
     "execution_count": 480,
     "metadata": {},
     "output_type": "execute_result"
    }
   ],
   "source": [
    "df.drop(columns=['Location'],axis=1,inplace=True) \n",
    "df.corr(method=\"pearson\")"
   ]
  },
  {
   "cell_type": "code",
   "execution_count": 481,
   "metadata": {},
   "outputs": [
    {
     "data": {
      "image/png": "[encoded data removed]",
      "text/plain": [
       "<Figure size 640x480 with 2 Axes>"
      ]
     },
     "metadata": {},
     "output_type": "display_data"
    }
   ],
   "source": [
    "corrMatrix = df.corr()\n",
    "sn.heatmap(corrMatrix, annot=True)\n",
    "plt.show()"
   ]
  },
  {
   "cell_type": "code",
   "execution_count": 482,
   "metadata": {},
   "outputs": [],
   "source": [
    "# Filter or drop irrelevent data columns\n",
    "df.drop(['S_No', 'Apparent_Temperature_C'],axis=1,inplace=True)"
   ]
  },
  {
   "cell_type": "code",
   "execution_count": 483,
   "metadata": {},
   "outputs": [
    {
     "data": {
      "text/plain": [
       "<Axes: >"
      ]
     },
     "execution_count": 483,
     "metadata": {},
     "output_type": "execute_result"
    },
    {
     "data": {
      "image/png": "[encoded data removed]",
      "text/plain": [
       "<Figure size 960x800 with 1 Axes>"
      ]
     },
     "metadata": {},
     "output_type": "display_data"
    }
   ],
   "source": [
    "from matplotlib.pyplot import figure\n",
    "figure(num=None, figsize=(12, 10), dpi=80, facecolor='w', edgecolor='w')\n",
    "df.corr(method ='pearson')['Future_weather_condition'].sort_values(ascending=True).drop(['Future_weather_condition']).plot(kind='bar', width=0.9)"
   ]
  },
  {
   "cell_type": "markdown",
   "metadata": {},
   "source": [
    "## d) Timeseries analysis of Temperature"
   ]
  },
  {
   "cell_type": "code",
   "execution_count": 484,
   "metadata": {},
   "outputs": [],
   "source": [
    "time = df['Timestamp']\n",
    "temp = df['Temperature_C']"
   ]
  },
  {
   "cell_type": "code",
   "execution_count": 485,
   "metadata": {},
   "outputs": [
    {
     "data": {
      "image/png": "[encoded data removed]",
      "text/plain": [
       "<Figure size 640x480 with 1 Axes>"
      ]
     },
     "metadata": {},
     "output_type": "display_data"
    }
   ],
   "source": [
    "## plot graph\n",
    "plt.plot(time, temp)\n",
    "plt.show()"
   ]
  },
  {
   "cell_type": "code",
   "execution_count": 486,
   "metadata": {},
   "outputs": [],
   "source": [
    "# Save processed dataset \n",
    "df.to_csv('Dataset/weather_dataset_processed.csv',index=False)"
   ]
  },
  {
   "cell_type": "markdown",
   "metadata": {},
   "source": [
    "## Register dataset to the GCP vertex AI"
   ]
  },
  {
   "cell_type": "code",
   "execution_count": 487,
   "metadata": {},
   "outputs": [],
   "source": [
    "# project=\"totemic-splicer-454710-h1\",\n",
    "# location=\"us-east1\""
   ]
  },
  {
   "cell_type": "code",
   "execution_count": 488,
   "metadata": {},
   "outputs": [],
   "source": [
    "aiplatform.init(project=\"totemic-splicer-454710-h1\", location=\"us-east1\")"
   ]
  },
  {
   "cell_type": "code",
   "execution_count": 489,
   "metadata": {},
   "outputs": [],
   "source": [
    "# get the datastore to upload prepared data\n",
    "# datastore = workspace.get_default_datastore()\n",
    "storage_client = storage.Client()"
   ]
  },
  {
   "cell_type": "code",
   "execution_count": 490,
   "metadata": {},
   "outputs": [
    {
     "name": "stdout",
     "output_type": "stream",
     "text": [
      "Uploaded Dataset/weather_dataset_raw.csv to gs://mlops_learning_gdj32/data/weather_dataset_raw.csv\n",
      "Uploaded Dataset/weather_dataset_processed.csv to gs://mlops_learning_gdj32/data/weather_dataset_processed.csv\n"
     ]
    }
   ],
   "source": [
    "# upload the local file from src_dir to the target_path in datastore\n",
    "# datastore.upload(src_dir='Dataset', target_path='data')\n",
    "def upload_to_gcs(local_path, gcs_path):\n",
    "    bucket_name = \"mlops_learning_gdj32\"  # Your default bucket\n",
    "    bucket = storage_client.bucket(bucket_name)\n",
    "    \n",
    "    for local_file in Path(local_path).rglob(\"*\"):\n",
    "        if local_file.is_file():\n",
    "            blob_path = f\"{gcs_path}/{local_file.relative_to(local_path)}\"\n",
    "            blob = bucket.blob(blob_path)\n",
    "            blob.upload_from_filename(str(local_file))\n",
    "            print(f\"Uploaded {local_file} to gs://{bucket_name}/{blob_path}\")\n",
    "upload_to_gcs(local_path='Dataset', gcs_path='data')"
   ]
  },
  {
   "cell_type": "code",
   "execution_count": 491,
   "metadata": {},
   "outputs": [
    {
     "name": "stdout",
     "output_type": "stream",
     "text": [
      "Creating TabularDataset\n",
      "Create TabularDataset backing LRO: projects/28645706877/locations/us-east1/datasets/3901955660744491008/operations/4847069880018534400\n",
      "TabularDataset created. Resource name: projects/28645706877/locations/us-east1/datasets/3901955660744491008\n",
      "To use this TabularDataset in another session:\n",
      "ds = aiplatform.TabularDataset('projects/28645706877/locations/us-east1/datasets/3901955660744491008')\n"
     ]
    }
   ],
   "source": [
    "# dataset = Dataset.Tabular.from_delimited_files(datastore.path('data/weather_dataset_processed.csv'))\n",
    "dataset = aiplatform.TabularDataset.create(\n",
    "    display_name=\"mlops_learning\",\n",
    "    gcs_source=\"gs://mlops_learning_gdj32/data/weather_dataset_processed.csv\",\n",
    ")"
   ]
  },
  {
   "cell_type": "code",
   "execution_count": 493,
   "metadata": {},
   "outputs": [],
   "source": []
  },
  {
   "cell_type": "code",
   "execution_count": null,
   "metadata": {},
   "outputs": [],
   "source": [
    "# Register Dataset to workspace"
   ]
  },
  {
   "cell_type": "code",
   "execution_count": 38,
   "metadata": {},
   "outputs": [],
   "source": [
    "# weather_ds = dataset.register(workspace=workspace,\n",
    "#                                  name='processed_weather_data_portofTurku',\n",
    "#                                  description='processed weather data')"
   ]
  },
  {
   "cell_type": "code",
   "execution_count": null,
   "metadata": {},
   "outputs": [],
   "source": []
  }
 ],
 "metadata": {
  "kernelspec": {
   "display_name": "Python 3 (ipykernel)",
   "language": "python",
   "name": "python3"
  },
  "language_info": {
   "codemirror_mode": {
    "name": "ipython",
    "version": 3
   },
   "file_extension": ".py",
   "mimetype": "text/x-python",
   "name": "python",
   "nbconvert_exporter": "python",
   "pygments_lexer": "ipython3",
   "version": "3.10.16"
  }
 },
 "nbformat": 4,
 "nbformat_minor": 4
}
